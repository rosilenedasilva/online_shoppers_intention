{
 "cells": [
  {
   "cell_type": "markdown",
   "id": "febbf876",
   "metadata": {},
   "source": [
    "### Integrated CA1 Sem 2 MSc in Data Analytics "
   ]
  },
  {
   "cell_type": "markdown",
   "id": "fe0a7748",
   "metadata": {},
   "source": [
    "### Advanced Data Analytics \n",
    "### Big Data Storage and Processing"
   ]
  },
  {
   "cell_type": "code",
   "execution_count": null,
   "id": "31d67501",
   "metadata": {},
   "outputs": [],
   "source": []
  }
 ],
 "metadata": {
  "kernelspec": {
   "display_name": "Python 3 (ipykernel)",
   "language": "python",
   "name": "python3"
  },
  "language_info": {
   "codemirror_mode": {
    "name": "ipython",
    "version": 3
   },
   "file_extension": ".py",
   "mimetype": "text/x-python",
   "name": "python",
   "nbconvert_exporter": "python",
   "pygments_lexer": "ipython3",
   "version": "3.11.5"
  }
 },
 "nbformat": 4,
 "nbformat_minor": 5
}
