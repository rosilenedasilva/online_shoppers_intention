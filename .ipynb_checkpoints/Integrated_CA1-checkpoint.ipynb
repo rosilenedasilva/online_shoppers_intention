{
 "cells": [
  {
   "cell_type": "markdown",
   "id": "febbf876",
   "metadata": {},
   "source": [
    "## <font color='#1D76BA'>Integrated CA1 - Sem 2 MSc in Data Analytics<font color='#00A859'>\n",
    "### <font color='#'>**Advanced Data Analytics  & Big Data Storage and Processing**\n",
    "### <font color='#1ABC9C'>**Lecturer(s): David McQuaid and Muhammad Iqbal**\n",
    "------\n",
    "<font color='#E74C3C'>**Students Name / ID** // Rosilene Francisca da Silva - 2021090"
   ]
  },
  {
   "cell_type": "markdown",
   "id": "fe0a7748",
   "metadata": {},
   "source": [
    "## Business Understanding"
   ]
  },
  {
   "cell_type": "markdown",
   "id": "1334d93f",
   "metadata": {},
   "source": [
    "## Data Understanding \n",
    "\n",
    "Dataset: Online Shoppers Purchasing Intention Dataset\n",
    "Donated on 8/30/2018\n",
    "\n",
    "The dataset was researched on the Central Statistics Office Ireland website: https://archive.ics.uci.edu/dataset/468/online+shoppers+purchasing+intention+dataset that CSV file was downloaded onto Python.\n",
    "\n",
    "Dataset Information\n",
    "Additional Information\n",
    "\n",
    "The dataset consists of feature vectors belonging to 12,330 sessions. \n",
    "The dataset was formed so that each session\n",
    "would belong to a different user in a 1-year period to avoid any tendency to a specific campaign, special day, user profile, or period. \n",
    "\n",
    "Creators\n",
    "C. Sakar\n",
    "Yomi Kastro - DOI: 10.24432/C5F88Q\n",
    "\n",
    "License\n",
    "This dataset is licensed under a Creative Commons Attribution 4.0 International (CC BY 4.0) license.\n",
    "\n",
    "Reference: 'Sakar,C. and Kastro,Yomi. (2018). Online Shoppers Purchasing Intention Dataset. UCI Machine Learning Repository. https://doi.org/10.24432/C5F88Q.'"
   ]
  },
  {
   "cell_type": "markdown",
   "id": "d8ebb724",
   "metadata": {},
   "source": [
    "#### Importing the required libraries:"
   ]
  },
  {
   "cell_type": "code",
   "execution_count": 1,
   "id": "d6249277",
   "metadata": {},
   "outputs": [],
   "source": [
    "#Importing the essential libraries, which are Pandas, Matplotlib, Seaborn, and Numpy.\n",
    "import pandas as pd\n",
    "import numpy as np\n",
    "import seaborn as sns\n",
    "import matplotlib.pyplot as plt\n",
    "from matplotlib import style\n",
    "from matplotlib import cm\n",
    "\n",
    "%matplotlib inline\n",
    "\n",
    "#Warnings: It can handle alert and warning messages with a number of commands and functions.\n",
    "import warnings\n",
    "warnings.filterwarnings('ignore')"
   ]
  },
  {
   "cell_type": "code",
   "execution_count": null,
   "id": "0fe695ff",
   "metadata": {},
   "outputs": [],
   "source": []
  }
 ],
 "metadata": {
  "kernelspec": {
   "display_name": "Python 3 (ipykernel)",
   "language": "python",
   "name": "python3"
  },
  "language_info": {
   "codemirror_mode": {
    "name": "ipython",
    "version": 3
   },
   "file_extension": ".py",
   "mimetype": "text/x-python",
   "name": "python",
   "nbconvert_exporter": "python",
   "pygments_lexer": "ipython3",
   "version": "3.11.5"
  }
 },
 "nbformat": 4,
 "nbformat_minor": 5
}
